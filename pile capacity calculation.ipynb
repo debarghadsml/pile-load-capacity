{
 "cells": [
  {
   "cell_type": "markdown",
   "id": "6d296592",
   "metadata": {},
   "source": [
    "# library import"
   ]
  },
  {
   "cell_type": "code",
   "execution_count": 12,
   "id": "8e89dbcb",
   "metadata": {},
   "outputs": [],
   "source": [
    "import numpy as np\n",
    "import pandas as pd\n",
    "import matplotlib.pyplot as plt\n",
    "import math\n",
    "from scipy.interpolate import interp1d"
   ]
  },
  {
   "cell_type": "markdown",
   "id": "c6ee694e",
   "metadata": {},
   "source": [
    "# input value"
   ]
  },
  {
   "cell_type": "code",
   "execution_count": 13,
   "id": "03263a43",
   "metadata": {},
   "outputs": [
    {
     "name": "stdout",
     "output_type": "stream",
     "text": [
      "Enter diameter of pile:-0.3\n",
      "enter the lenmgth of pile :-8\n",
      "the critical depth for given pile is:- 6.0\n",
      "enter the unit weight of water:-9.81\n",
      "factor of safety taken:-2.5\n"
     ]
    }
   ],
   "source": [
    "a = float(input('Enter diameter of pile:-'))\n",
    "b = float(input('enter the lenmgth of pile :-'))\n",
    "c = 20*a\n",
    "print('the critical depth for given pile is:-' , c)\n",
    "d = float(input('enter the unit weight of water:-'))\n",
    "fos = float(input('factor of safety taken:-'))"
   ]
  },
  {
   "cell_type": "markdown",
   "id": "ddb7b129",
   "metadata": {},
   "source": [
    "# layer information"
   ]
  },
  {
   "cell_type": "markdown",
   "id": "886f761f",
   "metadata": {},
   "source": [
    "## 1st layer"
   ]
  },
  {
   "cell_type": "code",
   "execution_count": 14,
   "id": "36b2f1ee",
   "metadata": {},
   "outputs": [
    {
     "name": "stdout",
     "output_type": "stream",
     "text": [
      "Enter the spt value:-15\n",
      "Enter the unit weight:-18\n",
      "water table status:-yes\n",
      "your unit weight is:- 8.19\n",
      "type of soil exist:-cohesionless\n",
      "enter the cohesion value0\n",
      "enter the angle of internal friction value:-32\n",
      "enter the depth of the layer:-8\n"
     ]
    }
   ],
   "source": [
    "e = float(input('Enter the spt value:-'))\n",
    "f = float(input('Enter the unit weight:-'))\n",
    "g = str(input('water table status:-'))\n",
    "if (g == 'yes'):\n",
    "    h =  (f-d)\n",
    "else:\n",
    "    h = f\n",
    "print('your unit weight is:-' ,h)\n",
    "i = str(input('type of soil exist:-'))\n",
    "j = float(input('enter the cohesion value'))\n",
    "k = float(input('enter the angle of internal friction value:-'))\n",
    "l = float(input('enter the depth of the layer:-'))"
   ]
  },
  {
   "cell_type": "markdown",
   "id": "afd2f4e8",
   "metadata": {},
   "source": [
    "## 2nd layer"
   ]
  },
  {
   "cell_type": "code",
   "execution_count": 16,
   "id": "ff5780bf",
   "metadata": {},
   "outputs": [
    {
     "name": "stdout",
     "output_type": "stream",
     "text": [
      "Enter the spt value:-0\n",
      "Enter the unit weight:-0\n",
      "water table status:-0\n",
      "your unit weight is:- 0.0\n",
      "type of soil exist:-0\n",
      "enter the cohesion value0\n",
      "enter the angle of internal friction value:-0\n",
      "enter the depth of the layer:-0\n"
     ]
    }
   ],
   "source": [
    "e2 = float(input('Enter the spt value:-'))\n",
    "f2 = float(input('Enter the unit weight:-'))\n",
    "g2 = str(input('water table status:-'))\n",
    "if (g2 == 'yes'):\n",
    "    h2 =  (f2-d)\n",
    "else:\n",
    "    h2 = f2\n",
    "print('your unit weight is:-' ,h2)\n",
    "i2 = str(input('type of soil exist:-'))\n",
    "j2 = float(input('enter the cohesion value'))\n",
    "k2 = float(input('enter the angle of internal friction value:-'))\n",
    "l2 = float(input('enter the depth of the layer:-'))"
   ]
  },
  {
   "cell_type": "markdown",
   "id": "4a1d5996",
   "metadata": {},
   "source": [
    "## 3rd layer"
   ]
  },
  {
   "cell_type": "code",
   "execution_count": 17,
   "id": "068ec16b",
   "metadata": {},
   "outputs": [
    {
     "name": "stdout",
     "output_type": "stream",
     "text": [
      "Enter the spt value:-0\n",
      "Enter the unit weight:-0\n",
      "water table status:-0\n",
      "your unit weight is:- 0.0\n",
      "type of soil exist:-0\n",
      "enter the cohesion value0\n",
      "enter the angle of internal friction value:-0\n",
      "enter the depth of the layer:-0\n"
     ]
    }
   ],
   "source": [
    "e3 = float(input('Enter the spt value:-'))\n",
    "f3 = float(input('Enter the unit weight:-'))\n",
    "g3 = str(input('water table status:-'))\n",
    "if (g3 == 'yes'):\n",
    "    h3 = (f3-d)\n",
    "else:\n",
    "    h3 = f3\n",
    "print('your unit weight is:-' , h3)\n",
    "i3 = str(input('type of soil exist:-'))\n",
    "j3 = float(input('enter the cohesion value'))\n",
    "k3 = float(input('enter the angle of internal friction value:-'))\n",
    "l3 = float(input('enter the depth of the layer:-'))"
   ]
  },
  {
   "cell_type": "markdown",
   "id": "ed27d5f1",
   "metadata": {},
   "source": [
    "## 4th layer"
   ]
  },
  {
   "cell_type": "code",
   "execution_count": 18,
   "id": "9b49a0eb",
   "metadata": {},
   "outputs": [
    {
     "name": "stdout",
     "output_type": "stream",
     "text": [
      "Enter the spt value:-0\n",
      "Enter the unit weight:-0\n",
      "water table status:-0\n",
      "your unit weight is:- 0.0\n",
      "type of soil exist:-0\n",
      "enter the cohesion value0\n",
      "enter the angle of internal friction value:-0\n",
      "enter the depth of the layer:-0\n"
     ]
    }
   ],
   "source": [
    "e4 = float(input('Enter the spt value:-'))\n",
    "f4 = float(input('Enter the unit weight:-'))\n",
    "g4 = str(input('water table status:-'))\n",
    "if (g4 == 'yes'):\n",
    "    h4 =  (f4-d)\n",
    "else:\n",
    "    h4 = f4\n",
    "print('your unit weight is:-' ,h4)\n",
    "i4 = str(input('type of soil exist:-'))\n",
    "j4 = float(input('enter the cohesion value'))\n",
    "k4 = float(input('enter the angle of internal friction value:-'))\n",
    "l4 = float(input('enter the depth of the layer:-'))"
   ]
  },
  {
   "cell_type": "markdown",
   "id": "531140e1",
   "metadata": {},
   "source": [
    "## 5th layer"
   ]
  },
  {
   "cell_type": "code",
   "execution_count": 19,
   "id": "b40055e5",
   "metadata": {},
   "outputs": [
    {
     "name": "stdout",
     "output_type": "stream",
     "text": [
      "Enter the spt value:-0\n",
      "Enter the unit weight:-0\n",
      "water table status:-0\n",
      "your unit weight is:- 0.0\n",
      "type of soil exist:-0\n",
      "enter the cohesion value0\n",
      "enter the angle of internal friction value:-0\n",
      "enter the depth of the layer:-0\n"
     ]
    }
   ],
   "source": [
    "e5 = float(input('Enter the spt value:-'))\n",
    "f5 = float(input('Enter the unit weight:-'))\n",
    "g5 = str(input('water table status:-'))\n",
    "if (g5 == 'yes'):\n",
    "    h5 = (f5-d)\n",
    "else:\n",
    "    h5 = f5\n",
    "print('your unit weight is:-' ,h5)\n",
    "i5 = str(input('type of soil exist:-'))\n",
    "j5 = float(input('enter the cohesion value'))\n",
    "k5 = float(input('enter the angle of internal friction value:-'))\n",
    "l5 = float(input('enter the depth of the layer:-'))"
   ]
  },
  {
   "cell_type": "markdown",
   "id": "d2835287",
   "metadata": {},
   "source": [
    "# calculation of end bearing"
   ]
  },
  {
   "cell_type": "code",
   "execution_count": 20,
   "id": "31550e8a",
   "metadata": {},
   "outputs": [
    {
     "name": "stdout",
     "output_type": "stream",
     "text": [
      "is there any water table present:-yes\n",
      "Enter your end bearing strata effective weight:-18\n",
      "your effective weight value is:- 8.19\n",
      "the efective stress for end bearing is 49.14\n"
     ]
    }
   ],
   "source": [
    "r = str(input('is there any water table present:-'))\n",
    "q = float(input('Enter your end bearing strata effective weight:-'))\n",
    "if (r == 'yes'):\n",
    "    s =(q-d)\n",
    "else:\n",
    "    s = q\n",
    "print('your effective weight value is:-' , s)\n",
    "if (c>=b):\n",
    "    t =  s*b\n",
    "else:\n",
    "    t = s*c\n",
    "print('the efective stress for end bearing is' ,t)"
   ]
  },
  {
   "cell_type": "code",
   "execution_count": 21,
   "id": "78bbedb6",
   "metadata": {},
   "outputs": [],
   "source": [
    "df = pd.read_csv(r'C:\\Users\\DEBARGHA SEN\\Desktop\\ROYAL HUSKONING\\GEOTECH\\bearing values.csv')"
   ]
  },
  {
   "cell_type": "code",
   "execution_count": 22,
   "id": "102a72f5",
   "metadata": {},
   "outputs": [
    {
     "data": {
      "text/html": [
       "<div>\n",
       "<style scoped>\n",
       "    .dataframe tbody tr th:only-of-type {\n",
       "        vertical-align: middle;\n",
       "    }\n",
       "\n",
       "    .dataframe tbody tr th {\n",
       "        vertical-align: top;\n",
       "    }\n",
       "\n",
       "    .dataframe thead th {\n",
       "        text-align: right;\n",
       "    }\n",
       "</style>\n",
       "<table border=\"1\" class=\"dataframe\">\n",
       "  <thead>\n",
       "    <tr style=\"text-align: right;\">\n",
       "      <th></th>\n",
       "      <th>phi</th>\n",
       "      <th>Nc</th>\n",
       "      <th>Nq</th>\n",
       "      <th>Ny</th>\n",
       "    </tr>\n",
       "  </thead>\n",
       "  <tbody>\n",
       "    <tr>\n",
       "      <th>0</th>\n",
       "      <td>0</td>\n",
       "      <td>5.14</td>\n",
       "      <td>1.00</td>\n",
       "      <td>0.00</td>\n",
       "    </tr>\n",
       "    <tr>\n",
       "      <th>1</th>\n",
       "      <td>5</td>\n",
       "      <td>6.49</td>\n",
       "      <td>1.57</td>\n",
       "      <td>0.45</td>\n",
       "    </tr>\n",
       "    <tr>\n",
       "      <th>2</th>\n",
       "      <td>10</td>\n",
       "      <td>8.35</td>\n",
       "      <td>2.47</td>\n",
       "      <td>1.22</td>\n",
       "    </tr>\n",
       "    <tr>\n",
       "      <th>3</th>\n",
       "      <td>15</td>\n",
       "      <td>10.98</td>\n",
       "      <td>3.94</td>\n",
       "      <td>2.65</td>\n",
       "    </tr>\n",
       "    <tr>\n",
       "      <th>4</th>\n",
       "      <td>20</td>\n",
       "      <td>14.83</td>\n",
       "      <td>6.40</td>\n",
       "      <td>5.39</td>\n",
       "    </tr>\n",
       "    <tr>\n",
       "      <th>5</th>\n",
       "      <td>25</td>\n",
       "      <td>20.72</td>\n",
       "      <td>10.66</td>\n",
       "      <td>10.88</td>\n",
       "    </tr>\n",
       "    <tr>\n",
       "      <th>6</th>\n",
       "      <td>30</td>\n",
       "      <td>30.14</td>\n",
       "      <td>18.40</td>\n",
       "      <td>22.40</td>\n",
       "    </tr>\n",
       "    <tr>\n",
       "      <th>7</th>\n",
       "      <td>35</td>\n",
       "      <td>46.12</td>\n",
       "      <td>33.30</td>\n",
       "      <td>48.03</td>\n",
       "    </tr>\n",
       "    <tr>\n",
       "      <th>8</th>\n",
       "      <td>40</td>\n",
       "      <td>75.31</td>\n",
       "      <td>64.20</td>\n",
       "      <td>109.41</td>\n",
       "    </tr>\n",
       "    <tr>\n",
       "      <th>9</th>\n",
       "      <td>45</td>\n",
       "      <td>138.88</td>\n",
       "      <td>134.88</td>\n",
       "      <td>271.76</td>\n",
       "    </tr>\n",
       "    <tr>\n",
       "      <th>10</th>\n",
       "      <td>50</td>\n",
       "      <td>266.89</td>\n",
       "      <td>319.07</td>\n",
       "      <td>762.89</td>\n",
       "    </tr>\n",
       "  </tbody>\n",
       "</table>\n",
       "</div>"
      ],
      "text/plain": [
       "    phi      Nc      Nq      Ny\n",
       "0     0    5.14    1.00    0.00\n",
       "1     5    6.49    1.57    0.45\n",
       "2    10    8.35    2.47    1.22\n",
       "3    15   10.98    3.94    2.65\n",
       "4    20   14.83    6.40    5.39\n",
       "5    25   20.72   10.66   10.88\n",
       "6    30   30.14   18.40   22.40\n",
       "7    35   46.12   33.30   48.03\n",
       "8    40   75.31   64.20  109.41\n",
       "9    45  138.88  134.88  271.76\n",
       "10   50  266.89  319.07  762.89"
      ]
     },
     "execution_count": 22,
     "metadata": {},
     "output_type": "execute_result"
    }
   ],
   "source": [
    "df"
   ]
  },
  {
   "cell_type": "code",
   "execution_count": 23,
   "id": "45c22fdf",
   "metadata": {},
   "outputs": [
    {
     "name": "stdout",
     "output_type": "stream",
     "text": [
      "enter the value of friction angle for end bearing strata:-32\n",
      "value of Nq is:- 32.652\n"
     ]
    }
   ],
   "source": [
    "ang = float(input('enter the value of friction angle for end bearing strata:-'))\n",
    "interpol = interp1d(df['phi'],df['Ny'])\n",
    "Nq = interpol(ang)\n",
    "print('value of Nq is:-' , Nq)"
   ]
  },
  {
   "cell_type": "code",
   "execution_count": 24,
   "id": "510ecc0a",
   "metadata": {},
   "outputs": [
    {
     "name": "stdout",
     "output_type": "stream",
     "text": [
      "Enter the type of soil we have at end strata:-cohesionless\n",
      "enter the spt value:-15\n",
      "your cohesion value is 72.0\n",
      "the end bearing value is:- 107.0404771384542\n"
     ]
    }
   ],
   "source": [
    "m = str(input('Enter the type of soil we have at end strata:-'))\n",
    "n = float(input('enter the spt value:-'))\n",
    "o = print('your cohesion value is' , 4.8*n)\n",
    "if(m == 'cohesive'):\n",
    "    p = ((np.pi)*a*a/4)*9*o\n",
    "elif(m == 'mixed'):\n",
    "    p = ((np.pi)*a*a/4)*9*o\n",
    "else:\n",
    "    p = ((0.5*a*s*Nq)+(t*30))*(np.pi)*a*a/4\n",
    "print('the end bearing value is:-', p)"
   ]
  },
  {
   "cell_type": "markdown",
   "id": "dad60838",
   "metadata": {},
   "source": [
    "# skin fricton calculation"
   ]
  },
  {
   "cell_type": "markdown",
   "id": "073ec783",
   "metadata": {},
   "source": [
    "## layer 1 "
   ]
  },
  {
   "cell_type": "code",
   "execution_count": 26,
   "id": "07cf3885",
   "metadata": {},
   "outputs": [
    {
     "name": "stdout",
     "output_type": "stream",
     "text": [
      "value of K is :- 1.0666666666666667\n",
      "the surface area is:- 7.5398223686155035\n",
      "the value of tangent of friction angle:- 0.6248693519093275\n",
      "the value of avg effective effective stress is:- 24.57\n",
      "skin friction for the first layer is:- 123.47647385642729\n"
     ]
    }
   ],
   "source": [
    "if(k == 30):\n",
    "    K = 1\n",
    "elif (k == 45):\n",
    "    K = 1.5\n",
    "else:\n",
    "    K =((1.5-1)*(k-30)/(45-30))+1\n",
    "print('value of K is :-',K)\n",
    "u = (np.pi)*a*l\n",
    "print('the surface area is:-',u)\n",
    "v = np.tan(math.radians(k))\n",
    "print('the value of tangent of friction angle:-',v)\n",
    "w = 0\n",
    "if (l<=c):\n",
    "    x = h*l\n",
    "else:\n",
    "    x = h*c\n",
    "z = ((w+x)*0.5)\n",
    "print('the value of avg effective effective stress is:-',z)\n",
    "y = K*u*z*v\n",
    "print('skin friction for the first layer is:-',y)"
   ]
  },
  {
   "cell_type": "markdown",
   "id": "1d89730c",
   "metadata": {},
   "source": [
    "# layer 2"
   ]
  },
  {
   "cell_type": "code",
   "execution_count": 27,
   "id": "f98e87bb",
   "metadata": {},
   "outputs": [
    {
     "name": "stdout",
     "output_type": "stream",
     "text": [
      "value of K is :- 0.0\n",
      "the surface area is:- 0.0\n",
      "the value of tangent of friction angle:- 0.0\n",
      "the value of avg effective effective stress is:- 24.57\n",
      "skin friction for the first layer is:- 0.0\n"
     ]
    }
   ],
   "source": [
    "if(k2 == 30):\n",
    "    K2 = 1\n",
    "elif (k2 == 45):\n",
    "    K2 = 1.5\n",
    "else:\n",
    "    K2 =((1.5-1)*(k2-30)/(45-30))+1\n",
    "print('value of K is :-',K2)\n",
    "u2 = (np.pi)*a*l2\n",
    "print('the surface area is:-',u2)\n",
    "v2 = np.tan(math.radians(k2))\n",
    "print('the value of tangent of friction angle:-',v2)\n",
    "w2 = x\n",
    "if ((l+l2)<=c):\n",
    "    x2 = h2*(l+l2)\n",
    "else:\n",
    "    x2 = h2*c\n",
    "z2 = ((w2+x2)*0.5)\n",
    "print('the value of avg effective effective stress is:-',z2)\n",
    "y2 = K2*u2*z2*v2\n",
    "print('skin friction for the first layer is:-',y2)"
   ]
  },
  {
   "cell_type": "markdown",
   "id": "5fcb2b6d",
   "metadata": {},
   "source": [
    "# layer 3"
   ]
  },
  {
   "cell_type": "code",
   "execution_count": 28,
   "id": "97599497",
   "metadata": {},
   "outputs": [
    {
     "name": "stdout",
     "output_type": "stream",
     "text": [
      "value of K is :- 0.0\n",
      "the surface area is:- 0.0\n",
      "the value of tangent of friction angle:- 0.0\n",
      "the value of avg effective effective stress is:- 0.0\n",
      "skin friction for the first layer is:- 0.0\n"
     ]
    }
   ],
   "source": [
    "if(k3 == 30):\n",
    "    K3 = 1\n",
    "elif (k3 == 45):\n",
    "    K3 = 1.5\n",
    "else:\n",
    "    K3 =((1.5-1)*(k3-30)/(45-30))+1\n",
    "print('value of K is :-',K3)\n",
    "u3 = (np.pi)*a*l3\n",
    "print('the surface area is:-',u3)\n",
    "v3 = np.tan(math.radians(k3))\n",
    "print('the value of tangent of friction angle:-',v3)\n",
    "w3 = x2\n",
    "if ((l+l2+l3)<=c):\n",
    "    x3 = h3*(l+l2+l3)\n",
    "else:\n",
    "    x3 = h3*c\n",
    "z3 = ((w3+x3)*0.5)\n",
    "print('the value of avg effective effective stress is:-',z3)\n",
    "y3 = K3*u3*z3*v3\n",
    "print('skin friction for the first layer is:-',y3)"
   ]
  },
  {
   "cell_type": "markdown",
   "id": "b7db348d",
   "metadata": {},
   "source": [
    "# layer 4"
   ]
  },
  {
   "cell_type": "code",
   "execution_count": 29,
   "id": "0dbd3490",
   "metadata": {},
   "outputs": [
    {
     "name": "stdout",
     "output_type": "stream",
     "text": [
      "value of K is :- 0.0\n",
      "the surface area is:- 0.0\n",
      "the value of tangent of friction angle:- 0.0\n",
      "the value of avg effective effective stress is:- 0.0\n",
      "skin friction for the first layer is:- 0.0\n"
     ]
    }
   ],
   "source": [
    "if(k4 == 30):\n",
    "    K4 = 1\n",
    "elif (k4 == 45):\n",
    "    K4 = 1.5\n",
    "else:\n",
    "    K4 =((1.5-1)*(k4-30)/(45-30))+1\n",
    "print('value of K is :-',K4)\n",
    "u4 = (np.pi)*a*l4\n",
    "print('the surface area is:-',u4)\n",
    "v4 = np.tan(math.radians(k4))\n",
    "print('the value of tangent of friction angle:-',v4)\n",
    "w4 = x3\n",
    "if ((l+l2+l3+l4)<=c):\n",
    "    x4 = h4*(l+l2+l3+l4)\n",
    "else:\n",
    "    x4 = h4*c\n",
    "z4 = ((w4+x4)*0.5)\n",
    "print('the value of avg effective effective stress is:-',z4)\n",
    "y4 = K4*u4*z4*v4\n",
    "print('skin friction for the first layer is:-',y4)"
   ]
  },
  {
   "cell_type": "markdown",
   "id": "2f00bc1e",
   "metadata": {},
   "source": [
    "# layer 5"
   ]
  },
  {
   "cell_type": "code",
   "execution_count": 30,
   "id": "99bb9096",
   "metadata": {},
   "outputs": [
    {
     "name": "stdout",
     "output_type": "stream",
     "text": [
      "value of K is :- 0.0\n",
      "the surface area is:- 0.0\n",
      "the value of tangent of friction angle:- 0.0\n",
      "the value of avg effective effective stress is:- 0.0\n",
      "skin friction for the first layer is:- 0.0\n"
     ]
    }
   ],
   "source": [
    "if(k5 == 30):\n",
    "    K5 = 1\n",
    "elif (k5 == 45):\n",
    "    K5 = 1.5\n",
    "else:\n",
    "    K5 =((1.5-1)*(k5-30)/(45-30))+1\n",
    "print('value of K is :-',K5)\n",
    "u5 = (np.pi)*a*l5\n",
    "print('the surface area is:-',u5)\n",
    "v5 = np.tan(math.radians(k5))\n",
    "print('the value of tangent of friction angle:-',v5)\n",
    "w5 = x4\n",
    "if ((l+l2+l3+l4+l5)<=c):\n",
    "    x5 = h5*(l+l2+l3+l4+l5)\n",
    "else:\n",
    "    x5 = h5*c\n",
    "z5 = ((w5+x5)*0.5)\n",
    "print('the value of avg effective effective stress is:-',z5)\n",
    "y5 = K5*u5*z5*v5\n",
    "print('skin friction for the first layer is:-',y5)"
   ]
  },
  {
   "cell_type": "markdown",
   "id": "a956b3e6",
   "metadata": {},
   "source": [
    "# final calculation"
   ]
  },
  {
   "cell_type": "code",
   "execution_count": 31,
   "id": "0f8454cd",
   "metadata": {},
   "outputs": [
    {
     "name": "stdout",
     "output_type": "stream",
     "text": [
      "total amount of skin friction:- 123.47647385642729\n"
     ]
    }
   ],
   "source": [
    "tsf = y+y2+y3+y4+y5\n",
    "print('total amount of skin friction:-' , tsf)"
   ]
  },
  {
   "cell_type": "code",
   "execution_count": 32,
   "id": "904c271a",
   "metadata": {},
   "outputs": [
    {
     "name": "stdout",
     "output_type": "stream",
     "text": [
      "total calculated pile capacity:- 230.51695099488148\n"
     ]
    }
   ],
   "source": [
    "tcpc =  (tsf+p)\n",
    "print('total calculated pile capacity:-' , tcpc)"
   ]
  },
  {
   "cell_type": "code",
   "execution_count": 33,
   "id": "f1ba7127",
   "metadata": {},
   "outputs": [
    {
     "name": "stdout",
     "output_type": "stream",
     "text": [
      "design pile capacity for vertical load is:- 92.2067803979526 kN\n"
     ]
    }
   ],
   "source": [
    "dpc = tcpc/fos\n",
    "print('design pile capacity for vertical load is:- {} kN'  .format(dpc))"
   ]
  }
 ],
 "metadata": {
  "kernelspec": {
   "display_name": "Python 3 (ipykernel)",
   "language": "python",
   "name": "python3"
  },
  "language_info": {
   "codemirror_mode": {
    "name": "ipython",
    "version": 3
   },
   "file_extension": ".py",
   "mimetype": "text/x-python",
   "name": "python",
   "nbconvert_exporter": "python",
   "pygments_lexer": "ipython3",
   "version": "3.10.9"
  }
 },
 "nbformat": 4,
 "nbformat_minor": 5
}
